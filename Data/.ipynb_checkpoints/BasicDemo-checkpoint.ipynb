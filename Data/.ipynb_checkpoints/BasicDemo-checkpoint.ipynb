{
 "cells": [
  {
   "cell_type": "heading",
   "metadata": {
    "collapsed": true
   },
   "level": 1,
   "source": [
    "Some toy examples that demonstrates initial naive approach"
   ]
  },
  {
   "cell_type": "markdown",
   "metadata": {},
   "source": [
    "We are representing all words as vectors for keywords and categories. After that we are calculating simularity between then and seraching fo k-nearest neighbors"
   ]
  },
  {
   "cell_type": "code",
   "execution_count": null,
   "metadata": {},
   "outputs": [],
   "source": [
    "import numpy\n",
    "from sklearn.neighbors import NearestNeighbors\n",
    "import spacy\n",
    "\n",
    "\n",
    "%%pxlocal\n",
    "class KeywordsClassifier(object):\n",
    "\n",
    "    def __init__(self, nearestNeighborsLearner, categories, topN):\n",
    "        self.nearestNeighborsLearner = nearestNeighborsLearner \n",
    "        self.categories = categories  # number of categories to select\n",
    "        self.topN = topN # number of categories to select\n",
    "\n",
    "    @classmethod\n",
    "    def CreateKeywordsClassifier(cls, nlp, categories, topNCount):\n",
    "        '''\n",
    "        @param nlp: spacy dictinary \n",
    "        @param categories: list of categories\n",
    "        @param topNCount: number of categories to chose\n",
    "        @return: instance of KeywordsClassifier class\n",
    "        '''\n",
    "        catDic = KeywordsClassifier.GetVerticalsVectorsDict(nlp, categories)\n",
    "        catArray = numpy.array(list(catDic.values()))\n",
    "        nn = NearestNeighbors(topNCount, algorithm='brute', metric='cosine') #for production we should use LSHForest instead\n",
    "        nn.fit(catArray)\n",
    "        return KeywordsClassifier(nn, list(catDic.keys()), topNCount)\n",
    "\n",
    "    @staticmethod\n",
    "    def GetVerticalsVectorsDict(nlp, verticals):\n",
    "        verticalsDict = {}\n",
    "\n",
    "        for category in verticals:\n",
    "            text = nlp(category.replace(\"&\", \"\"))\n",
    "            verticalsDict[category] = text.vector\n",
    "\n",
    "        return verticalsDict\n",
    "\n",
    "\n",
    "    def ClassifyKeywords(self, keywordsVector):\n",
    "        '''\n",
    "        @param keywordsVector: resulting keywords vector\n",
    "        @return: ordered list of tuples representing of top N categories names with cosine similarities\n",
    "        '''\n",
    "        result = []\n",
    "        distances, indices = self.nearestNeighborsLearner.kneighbors(keywordsVector.reshape(1, -1))\n",
    "        curIter = 0\n",
    "\n",
    "        for curIndex in numpy.nditer(indices):\n",
    "            category = self.categories[curIndex]\n",
    "            cosDistance = distances[0][curIter]\n",
    "            tuple = (category, 1 - cosDistance)\n",
    "            result.append(tuple)\n",
    "            curIter += 1\n",
    "\n",
    "        return result\n",
    "# Let initilize spacy dictinary(havy operation):\n",
    "print(\"Loading dictinary...\")\n",
    "nlp = spacy.load('en')\n",
    "print(\"Dictinary loaded.\")\n",
    "categories = { 'fruits', 'cars', 'bikes', 'animals'}\n",
    "keywords = 'BMW NISSAN TOYOTA'\n",
    "topN = 1\n",
    "classifier = KeywordsClassifier.CreateKeywordsClassifier( nlp, verticals, topN)\n",
    "result = classifier.ClassifyKeywords(keywordsVect)\n",
    "print(result)"
   ]
  }
 ],
 "metadata": {
  "kernelspec": {
   "display_name": "Python 2",
   "language": "python",
   "name": "python2"
  },
  "language_info": {
   "codemirror_mode": {
    "name": "ipython",
    "version": 2.0
   },
   "file_extension": ".py",
   "mimetype": "text/x-python",
   "name": "python",
   "nbconvert_exporter": "python",
   "pygments_lexer": "ipython2",
   "version": "2.7.6"
  }
 },
 "nbformat": 4,
 "nbformat_minor": 0
}