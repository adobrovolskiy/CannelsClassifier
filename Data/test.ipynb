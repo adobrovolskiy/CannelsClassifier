{
 "cells": [
  {
   "cell_type": "code",
   "execution_count": 35,
   "metadata": {
    "collapsed": false
   },
   "outputs": [
    {
     "name": "stdout",
     "output_type": "stream",
     "text": [
      "Loading..\nLoaded"
     ]
    },
    {
     "name": "stdout",
     "output_type": "stream",
     "text": [
      "\n"
     ]
    }
   ],
   "source": [
    "def log_progress(sequence, every=10):\n",
    "    from ipywidgets import IntProgress\n",
    "    from IPython.display import display\n",
    "\n",
    "    progress = IntProgress(min=0, max=len(sequence), value=0)\n",
    "    display(progress)\n",
    "    \n",
    "    for index, record in enumerate(sequence):\n",
    "        if index % every == 0:\n",
    "            progress.value = index\n",
    "        yield record\n",
    "\n",
    "\n",
    "# if 'x' in locals():\n",
    "#     print('Exists!')\n",
    "#     \n",
    "# if 'x' not in globals():\n",
    "#     print('Not Exists2!')\n",
    "import time\n",
    "\n",
    "log_progress(100)\n",
    "print('Loading..')\n",
    "x = 2 * 10\n",
    "time.sleep(5)\n",
    "print('Loaded')"
   ]
  },
  {
   "cell_type": "code",
   "execution_count": null,
   "metadata": {
    "collapsed": false
   },
   "outputs": [],
   "source": [
    "class KeywordsClassifier(object):\n",
    " def __init__(self, vars):\n",
    "  self.vars = vars\n",
    "     \n",
    " def curPrint(self):\n",
    "  print(self.vars)"
   ]
  },
  {
   "cell_type": "code",
   "execution_count": 30,
   "metadata": {},
   "outputs": [
    {
     "name": "stdout",
     "output_type": "stream",
     "text": [
      "{'_i20': \"if 'x' in locals():\\n    print('Exists!')\\nx = 2 * 10\", '_i7': 'x = 2 * 10', 'get_ipython': <bound method InteractiveShell.get_ipython of <IPython.kernel.zmq.zmqshell.ZMQInteractiveShell object at 0x7f597a8c5240>>, '_i17': 'kw = KeywordsClassifier(4)\\nkw.curPrint()', 'quit': <IPython.core.autocall.ZMQExitAutocall object at 0x7f59783cd470>, '_i25': \"if 'x' in locals():\\n    print('Exists!')\\n    \\nif 'x' in globals():\\n    print('Exists2!')\\n    \\nx = 2 * 10\", '_i22': \"if 'x' in locals():\\n    print('Exists!')\\nx = 2 * 10\", '_i18': \"if 'x' in locals():\\n    print('Exists!')\\nx = 2 * 10\", '_i14': 'kw = KeywordsClassifier(4)\\nkw.curPrint(4)', '_ii': \"if 'x' in locals():\\n    print('Exists!')\\n    \\nif 'x' in globals():\\n    print('Exists2!')\\n    \\nkw = KeywordsClassifier(4)\\nkw.curPrint()\", '_i13': 'kw = KeywordsClassifier(4)', '_i8': 'x', '_i21': \"if 'x' in locals():\\n    print('Exists!')\\nx = 2 * 10\", 'firstP': 5, '__loader__': None, '_i3': '%pwd', '_i2': '%ls', '_': 20, '__builtins__': <module 'builtins' (built-in)>, '__spec__': None, '_i23': \"if 'x' in locals():\\n    print('Exists!')\\nx = 2 * 10\", '_i6': 'x = 2 * 10', '_i30': 'print(globals())\\n    \\nkw = KeywordsClassifier(4)\\nkw.curPrint()', '__name__': '__main__', 'In': ['', 'print(sp)', \"get_ipython().magic('ls')\", \"get_ipython().magic('pwd')\", \"firstP = 5\\nget_ipython().magic('who')\", 'x', 'x = 2 * 10', 'x = 2 * 10', 'x', 'x = 2 * 10', 'x', 'class KeywordsClassifier(object):\\n def __init__(self, vars):\\n     self.vars = 5', 'class KeywordsClassifier(object):\\n def __init__(self, vars):\\n     self.vars = 5', 'kw = KeywordsClassifier(4)', 'kw = KeywordsClassifier(4)\\nkw.curPrint(4)', 'class KeywordsClassifier(object):\\n def __init__(self, vars):\\n  self.vars = vars\\n     \\n def curPrint(self):\\n  print(self.vars)', 'kw = KeywordsClassifier(4)\\nkw.curPrint(4)', 'kw = KeywordsClassifier(4)\\nkw.curPrint()', \"if 'x' in locals():\\n    print('Exists!')\\nx = 2 * 10\", \"if 'x' in locals():\\n    print('Exists!')\\nx = 2 * 10\", \"if 'x' in locals():\\n    print('Exists!')\\nx = 2 * 10\", \"if 'x' in locals():\\n    print('Exists!')\\nx = 2 * 10\", \"if 'x' in locals():\\n    print('Exists!')\\nx = 2 * 10\", \"if 'x' in locals():\\n    print('Exists!')\\nx = 2 * 10\", \"if 'x' in locals():\\n    print('Exists!')\\n    \\nif 'x' in locals():\\n    print('Exists2!')\\n    \\nx = 2 * 10\", \"if 'x' in locals():\\n    print('Exists!')\\n    \\nif 'x' in globals():\\n    print('Exists2!')\\n    \\nx = 2 * 10\", \"if 'x' in locals():\\n    print('Exists!')\\n    \\nif 'x' in globals():\\n    print('Exists2!')\\n    \\nx = 2 * 10\", \"if 'x' in locals():\\n    print('Exists!')\\n    \\nif 'x' in globals():\\n    print('Exists2!')\\n    \\nx = 2 * 10\", \"if 'x' in locals():\\n    print('Exists!')\\n    \\nif 'x' in globals():\\n    print('Exists2!')\\n    \\nkw = KeywordsClassifier(4)\\nkw.curPrint()\", \"if 'x' in locals():\\n    print('Exists!')\\n    \\nif 'x' in globals():\\n    print('Exists2!')\\n    \\nkw = KeywordsClassifier(4)\\nkw.curPrint()\", 'print(globals())\\n    \\nkw = KeywordsClassifier(4)\\nkw.curPrint()'], '_i19': \"if 'x' in locals():\\n    print('Exists!')\\nx = 2 * 10\", '_exit_code': 0, '_oh': {8: 20, 10: 20, 3: '/home/pkonovalov/PycharmProjects/ChannelClassifier'}, '___': '/home/pkonovalov/PycharmProjects/ChannelClassifier', '__': 20, 'x': 20, '_i24': \"if 'x' in locals():\\n    print('Exists!')\\n    \\nif 'x' in locals():\\n    print('Exists2!')\\n    \\nx = 2 * 10\", '__doc__': 'Automatically created module for IPython interactive environment', '_i16': 'kw = KeywordsClassifier(4)\\nkw.curPrint(4)', '_sh': <module 'IPython.core.shadowns' from '/usr/lib/python3/dist-packages/IPython/core/shadowns.py'>, '_8': 20, '_i27': \"if 'x' in locals():\\n    print('Exists!')\\n    \\nif 'x' in globals():\\n    print('Exists2!')\\n    \\nx = 2 * 10\", '_i12': 'class KeywordsClassifier(object):\\n def __init__(self, vars):\\n     self.vars = 5', '_i4': 'firstP = 5\\n%who', '_i': \"if 'x' in locals():\\n    print('Exists!')\\n    \\nif 'x' in globals():\\n    print('Exists2!')\\n    \\nkw = KeywordsClassifier(4)\\nkw.curPrint()\", '_i10': 'x', 'Out': {8: 20, 10: 20, 3: '/home/pkonovalov/PycharmProjects/ChannelClassifier'}, '_i26': \"if 'x' in locals():\\n    print('Exists!')\\n    \\nif 'x' in globals():\\n    print('Exists2!')\\n    \\nx = 2 * 10\", '_i1': 'print(sp)', 'exit': <IPython.core.autocall.ZMQExitAutocall object at 0x7f59783cd470>, '_3': '/home/pkonovalov/PycharmProjects/ChannelClassifier', '_i28': \"if 'x' in locals():\\n    print('Exists!')\\n    \\nif 'x' in globals():\\n    print('Exists2!')\\n    \\nkw = KeywordsClassifier(4)\\nkw.curPrint()\", '_i5': 'x', 'kw': <__main__.KeywordsClassifier object at 0x7f59780fc358>, '__package__': None, '_iii': \"if 'x' in locals():\\n    print('Exists!')\\n    \\nif 'x' in globals():\\n    print('Exists2!')\\n    \\nx = 2 * 10\", '_i29': \"if 'x' in locals():\\n    print('Exists!')\\n    \\nif 'x' in globals():\\n    print('Exists2!')\\n    \\nkw = KeywordsClassifier(4)\\nkw.curPrint()\", '_i11': 'class KeywordsClassifier(object):\\n def __init__(self, vars):\\n     self.vars = 5', '_dh': ['/home/pkonovalov/PycharmProjects/ChannelClassifier'], '_ih': ['', 'print(sp)', \"get_ipython().magic('ls')\", \"get_ipython().magic('pwd')\", \"firstP = 5\\nget_ipython().magic('who')\", 'x', 'x = 2 * 10', 'x = 2 * 10', 'x', 'x = 2 * 10', 'x', 'class KeywordsClassifier(object):\\n def __init__(self, vars):\\n     self.vars = 5', 'class KeywordsClassifier(object):\\n def __init__(self, vars):\\n     self.vars = 5', 'kw = KeywordsClassifier(4)', 'kw = KeywordsClassifier(4)\\nkw.curPrint(4)', 'class KeywordsClassifier(object):\\n def __init__(self, vars):\\n  self.vars = vars\\n     \\n def curPrint(self):\\n  print(self.vars)', 'kw = KeywordsClassifier(4)\\nkw.curPrint(4)', 'kw = KeywordsClassifier(4)\\nkw.curPrint()', \"if 'x' in locals():\\n    print('Exists!')\\nx = 2 * 10\", \"if 'x' in locals():\\n    print('Exists!')\\nx = 2 * 10\", \"if 'x' in locals():\\n    print('Exists!')\\nx = 2 * 10\", \"if 'x' in locals():\\n    print('Exists!')\\nx = 2 * 10\", \"if 'x' in locals():\\n    print('Exists!')\\nx = 2 * 10\", \"if 'x' in locals():\\n    print('Exists!')\\nx = 2 * 10\", \"if 'x' in locals():\\n    print('Exists!')\\n    \\nif 'x' in locals():\\n    print('Exists2!')\\n    \\nx = 2 * 10\", \"if 'x' in locals():\\n    print('Exists!')\\n    \\nif 'x' in globals():\\n    print('Exists2!')\\n    \\nx = 2 * 10\", \"if 'x' in locals():\\n    print('Exists!')\\n    \\nif 'x' in globals():\\n    print('Exists2!')\\n    \\nx = 2 * 10\", \"if 'x' in locals():\\n    print('Exists!')\\n    \\nif 'x' in globals():\\n    print('Exists2!')\\n    \\nx = 2 * 10\", \"if 'x' in locals():\\n    print('Exists!')\\n    \\nif 'x' in globals():\\n    print('Exists2!')\\n    \\nkw = KeywordsClassifier(4)\\nkw.curPrint()\", \"if 'x' in locals():\\n    print('Exists!')\\n    \\nif 'x' in globals():\\n    print('Exists2!')\\n    \\nkw = KeywordsClassifier(4)\\nkw.curPrint()\", 'print(globals())\\n    \\nkw = KeywordsClassifier(4)\\nkw.curPrint()'], 'KeywordsClassifier': <class '__main__.KeywordsClassifier'>, '__builtin__': <module 'builtins' (built-in)>, '_10': 20, '_i9': 'x = 2 * 10', '_i15': 'class KeywordsClassifier(object):\\n def __init__(self, vars):\\n  self.vars = vars\\n     \\n def curPrint(self):\\n  print(self.vars)'}\n4\n"
     ]
    }
   ],
   "source": [
    "print(globals())\n",
    "    \n",
    "kw = KeywordsClassifier(4)\n",
    "kw.curPrint()"
   ]
  }
 ],
 "metadata": {
  "kernelspec": {
   "display_name": "Python 2",
   "language": "python",
   "name": "python2"
  },
  "language_info": {
   "codemirror_mode": {
    "name": "ipython",
    "version": 2.0
   },
   "file_extension": ".py",
   "mimetype": "text/x-python",
   "name": "python",
   "nbconvert_exporter": "python",
   "pygments_lexer": "ipython2",
   "version": "2.7.6"
  }
 },
 "nbformat": 4,
 "nbformat_minor": 0
}